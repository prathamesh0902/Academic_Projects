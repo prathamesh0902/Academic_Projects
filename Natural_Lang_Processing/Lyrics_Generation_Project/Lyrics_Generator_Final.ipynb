{
  "nbformat": 4,
  "nbformat_minor": 0,
  "metadata": {
    "colab": {
      "provenance": [],
      "authorship_tag": "ABX9TyOMU6y6+kOnYbta470fvIiU",
      "include_colab_link": true
    },
    "kernelspec": {
      "name": "python3",
      "display_name": "Python 3"
    },
    "language_info": {
      "name": "python"
    }
  },
  "cells": [
    {
      "cell_type": "markdown",
      "metadata": {
        "id": "view-in-github",
        "colab_type": "text"
      },
      "source": [
        "<a href=\"https://colab.research.google.com/github/prathamesh0902/NLP/blob/main/Project/Lyrics_Generator_Final.ipynb\" target=\"_parent\"><img src=\"https://colab.research.google.com/assets/colab-badge.svg\" alt=\"Open In Colab\"/></a>"
      ]
    },
    {
      "cell_type": "markdown",
      "source": [
        "# Implementation of LSTM in Pytorch for Text generation"
      ],
      "metadata": {
        "id": "5iNjy7Y-kf0B"
      }
    },
    {
      "cell_type": "markdown",
      "source": [
        "## Import Data"
      ],
      "metadata": {
        "id": "B1JRztX-tfoP"
      }
    },
    {
      "cell_type": "code",
      "source": [
        "import pandas as pd\n",
        "import numpy as np\n",
        "\n",
        "# importing the data sets\n",
        "from google.colab import drive\n",
        "drive.mount('/content/drive')\n"
      ],
      "metadata": {
        "colab": {
          "base_uri": "https://localhost:8080/"
        },
        "id": "HoSVoNR4EbrE",
        "outputId": "fc2ebcc5-74c0-4319-b080-77b7321e30d5"
      },
      "execution_count": null,
      "outputs": [
        {
          "output_type": "stream",
          "name": "stdout",
          "text": [
            "Drive already mounted at /content/drive; to attempt to forcibly remount, call drive.mount(\"/content/drive\", force_remount=True).\n"
          ]
        }
      ]
    },
    {
      "cell_type": "code",
      "source": [
        "filename_array = []\n",
        "source_folder = '/content/drive/MyDrive/Data_Files/Lyrics_Data/'\n",
        "for i in range(10, 75):\n",
        "  source_file = source_folder + str(i) # + '.txt'\n",
        "  filename_array.append(source_file)"
      ],
      "metadata": {
        "id": "mx4JjQWdWRTq"
      },
      "execution_count": null,
      "outputs": []
    },
    {
      "cell_type": "code",
      "source": [
        "import re\n",
        "\n",
        "# Load and preprocess the lyrics data\n",
        "\n",
        "filenames = filename_array # ['/content/drive/MyDrive/Data_Files/lyrics005.txt', '/content/drive/MyDrive/Data_Files/lyrics004.txt']\n",
        "with open('/content/drive/MyDrive/Data_Files/lyrics007.txt', 'w') as outfile:\n",
        "    for fname in filenames:\n",
        "        with open(fname) as infile:\n",
        "            outfile.write(infile.read())\n",
        "\n",
        "with open('/content/drive/MyDrive/Data_Files/lyrics007.txt', 'r') as f:\n",
        "    file_raw = f.read()\n",
        "\n",
        "BAD_SYMBOLS_RE = re.compile('[/(){}\\[\\]\\|@,;_]')\n",
        "REPLACE_BY_SPACE_RE = re.compile('[^0-9a-z #+]')\n",
        "\n",
        "def text_prepare(text):\n",
        "    \n",
        "    text = text.lower() # lowercase text\n",
        "    text = BAD_SYMBOLS_RE.sub('', text) # delete symbols which are in BAD_SYMBOLS_RE from text\n",
        "    text = REPLACE_BY_SPACE_RE.sub(' ', text) # replace REPLACE_BY_SPACE_RE symbols by space in text\n",
        "    \n",
        "    return text\n",
        "\n",
        "lyrics = text_prepare(file_raw)"
      ],
      "metadata": {
        "id": "jcUS5p1NPBbv"
      },
      "execution_count": null,
      "outputs": []
    },
    {
      "cell_type": "markdown",
      "source": [
        "## Bleu implementation"
      ],
      "metadata": {
        "id": "ImFa9galoX45"
      }
    },
    {
      "cell_type": "code",
      "source": [
        "BAD_SYMBOLS_RE = re.compile('[/(){}\\[\\]\\|@,;_\\’.]')\n",
        "REPLACE_BY_DOT_RE = re.compile('[^0-9a-z #+]') \n",
        "# REPLACE_BY_SPACE_RE = re.compile('[^0-9a-z #+]') \n",
        "\n",
        "def text_prepare2(text):\n",
        "    \n",
        "    text = text.lower() # lowercase text\n",
        "    text = BAD_SYMBOLS_RE.sub('', text) # delete symbols which are in BAD_SYMBOLS_RE from text\n",
        "    text = REPLACE_BY_DOT_RE.sub('.', text) # replace REPLACE_BY_SPACE_RE symbols by space in text\n",
        "    \n",
        "    return text\n",
        "\n",
        "lyrics2 = text_prepare2(file_raw)"
      ],
      "metadata": {
        "id": "ZcRbmmtDogOV"
      },
      "execution_count": null,
      "outputs": []
    },
    {
      "cell_type": "code",
      "source": [
        "lyrics_array = list(set(lyrics2.split(\".\")))"
      ],
      "metadata": {
        "id": "78YWFHewowqv"
      },
      "execution_count": null,
      "outputs": []
    },
    {
      "cell_type": "code",
      "source": [
        "from tqdm import tqdm\n",
        "for j in tqdm(range(len(lyrics_array))):\n",
        "    lyrics_array[j] = lyrics_array[j].split(\" \")"
      ],
      "metadata": {
        "colab": {
          "base_uri": "https://localhost:8080/"
        },
        "id": "9N6poRDWo0SP",
        "outputId": "ad6f8014-a962-4e08-fb57-65144f81aee9"
      },
      "execution_count": null,
      "outputs": [
        {
          "output_type": "stream",
          "name": "stderr",
          "text": [
            "100%|██████████| 1986/1986 [00:00<00:00, 327922.52it/s]\n"
          ]
        }
      ]
    },
    {
      "cell_type": "code",
      "source": [
        "class SmoothingFunction:\n",
        "    def __init__(self, epsilon=0.1, alpha=5, k=5):\n",
        "        self.epsilon = epsilon\n",
        "        self.alpha = alpha\n",
        "        self.k = k\n",
        "\n",
        "    def method1(self, p_n, *args, **kwargs):\n",
        "        \"\"\"\n",
        "        Smoothing method 1: Add *epsilon* counts to precision with 0 counts.\n",
        "        \"\"\"\n",
        "        return [\n",
        "            (p_i.numerator + self.epsilon) / p_i.denominator\n",
        "            if p_i.numerator == 0\n",
        "            else p_i\n",
        "            for p_i in p_n\n",
        "        ]\n",
        "\n",
        "chencherry = SmoothingFunction()\n",
        "reference= lyrics_array"
      ],
      "metadata": {
        "id": "YM3J5CXio40e"
      },
      "execution_count": null,
      "outputs": []
    },
    {
      "cell_type": "markdown",
      "source": [
        "## Model training and generation"
      ],
      "metadata": {
        "id": "XPlOd1nnonfB"
      }
    },
    {
      "cell_type": "code",
      "source": [
        "# Load the TensorBoard notebook extension\n",
        "%load_ext tensorboard\n",
        "import tensorflow as tf\n",
        "import datetime\n",
        "# Clear any logs from previous runs\n",
        "!rm -rf ./logs/ "
      ],
      "metadata": {
        "id": "no5gV-C3uQY9",
        "colab": {
          "base_uri": "https://localhost:8080/"
        },
        "outputId": "dcd5897a-cc88-4b23-d4bf-25ca76e41433"
      },
      "execution_count": null,
      "outputs": [
        {
          "output_type": "stream",
          "name": "stdout",
          "text": [
            "The tensorboard extension is already loaded. To reload it, use:\n",
            "  %reload_ext tensorboard\n"
          ]
        }
      ]
    },
    {
      "cell_type": "code",
      "source": [
        "import torch\n",
        "import torch.nn as nn\n",
        "from collections import Counter\n",
        "from nltk.tokenize import word_tokenize\n",
        "import string\n",
        "import random\n",
        "import sys\n",
        "from torch.utils.tensorboard import SummaryWriter\n",
        "import pickle\n",
        "from nltk.translate.bleu_score import sentence_bleu\n",
        "# writer = SummaryWriter(log_dir='logs/Tensorboard_logs'+ datetime.datetime.now().strftime(\"%m%d\"))\n",
        "\n",
        "# Device configuration\n",
        "device = torch.device('cuda' if torch.cuda.is_available() else 'cpu')\n",
        "print(\"=> Using\",device, \"device\")\n",
        "\n",
        "# Convert the input data into a tensor of character indices\n",
        "all_characters = string.printable\n",
        "n_characters = len(all_characters)\n",
        "\n",
        "\n",
        "# Define the LSTM model\n",
        "class LSTMModel(nn.Module):\n",
        "    def __init__(self, input_size, hidden_size, output_size, num_layers):\n",
        "        super(LSTMModel, self).__init__()\n",
        "        # self.input_size = input_size\n",
        "        self.hidden_size = hidden_size\n",
        "        self.num_layers = num_layers\n",
        "        # self.output_size = output_size\n",
        "        self.embed = nn.Embedding(input_size, hidden_size)\n",
        "        self.lstm = nn.LSTM(hidden_size, hidden_size, num_layers, batch_first = True)\n",
        "        self.fc = nn.Linear(hidden_size, output_size)\n",
        "\n",
        "    def forward(self, x, hidden, cell):\n",
        "        out = self.embed(x)\n",
        "        out, (hidden, cell) = self.lstm(out.unsqueeze(1), (hidden, cell))\n",
        "        out = self.fc(out.reshape(out.shape[0],-1))\n",
        "        return out, (hidden, cell)\n",
        "\n",
        "    def init_hidden(self, batch_size):\n",
        "        # print(\"batch_size : \", batch_size)\n",
        "        hidden = torch.zeros(self.num_layers, batch_size, self.hidden_size).to(device)\n",
        "        cell = torch.zeros(self.num_layers, batch_size, self.hidden_size).to(device)\n",
        "        return hidden, cell\n",
        "\n",
        "class Generator():\n",
        "    def __init__(self, initial_str, prediction_len):\n",
        "        self.chunk_len = 250\n",
        "        self.num_epochs = 1000 #000\n",
        "        self.batch_size = 1\n",
        "        self.print_every = 50 #500\n",
        "        self.hidden_size = 128\n",
        "        self.num_layers = 2\n",
        "        self.learning_rate = 0.003\n",
        "        self.initial_str = initial_str\n",
        "        self.prediction_len = prediction_len\n",
        "        self.model = LSTMModel(n_characters, self.hidden_size, n_characters, self.num_layers).to(device)\n",
        "    \n",
        "    def char_tensor(self, string):\n",
        "        tensor = torch.zeros(len(string)).long()\n",
        "        # print(string)\n",
        "        for c in range(len(string)):\n",
        "            tensor[c] = all_characters.index(string[c])\n",
        "        return tensor\n",
        "\n",
        "    def get_random_batch(self):\n",
        "        start_idx = random.randint(0, len(lyrics) - self.chunk_len)\n",
        "        end_idx = start_idx + self.chunk_len + 1\n",
        "        text_str = lyrics[start_idx:end_idx]\n",
        "        text_input = torch.zeros(self.batch_size, self.chunk_len)\n",
        "        text_target = torch.zeros(self.batch_size, self.chunk_len)\n",
        "\n",
        "        for i in range(self.batch_size):\n",
        "            text_input[i,:] = self.char_tensor(text_str[:-1])\n",
        "            text_target[i,:] = self.char_tensor(text_str[1:])\n",
        "\n",
        "        return text_input.long(), text_target.long()\n",
        "\n",
        "\n",
        "\n",
        "    def generate(self, temperature = 0.65):\n",
        "        with open('/content/drive/MyDrive/Data_Files/LSTMmodel.pkl', 'rb') as f:\n",
        "            loaded_model = pickle.load(f)\n",
        "        #Later to restore:\n",
        "        modelSD = loaded_model\n",
        "        modelSD.load_state_dict(torch.load('/content/drive/MyDrive/Data_Files/LSTMmodelSD'))\n",
        "        hidden, cell = modelSD.init_hidden(batch_size = self.batch_size)  #self.model #loaded_model\n",
        "        initial_input  = self.char_tensor(initial_str)\n",
        "        predicted = initial_str\n",
        "\n",
        "        for p in range(len(initial_str) -1):\n",
        "            _, (hidden, cell) = self.model(initial_input[p].view(1).to(device), hidden, cell)\n",
        "\n",
        "        last_char = initial_input[-1]\n",
        "\n",
        "        for p in range(prediction_len):\n",
        "            output , (hidden, cell) = self.model(last_char.view(1).to(device), hidden, cell)\n",
        "            output_dist = output.data.view(-1).div(temperature).exp()\n",
        "            top_char = torch.multinomial(output_dist, 1)[0]\n",
        "            predicted_char = all_characters[top_char]\n",
        "            predicted += predicted_char\n",
        "            last_char = self.char_tensor(predicted_char)\n",
        "\n",
        "        print(\"=> generated Lyrics :\" , predicted)\n",
        "\n",
        "        # evaluating the bleu score\n",
        "        train_text_prepare = text_prepare2(predicted)\n",
        "        candidate = train_text_prepare.split(\" \")\n",
        "        print('Cumulative 1-gram: %f' % sentence_bleu(reference, candidate, weights=(1, 0, 0, 0), smoothing_function=chencherry.method1))\n",
        "        print('Cumulative 2-gram: %f' % sentence_bleu(reference, candidate, weights=(0.5, 0.5, 0, 0), smoothing_function=chencherry.method1))\n",
        "        print('Cumulative 3-gram: %f' % sentence_bleu(reference, candidate, weights=(0.33, 0.33, 0.33, 0), smoothing_function=chencherry.method1))\n",
        "        print('Cumulative 4-gram: %f' % sentence_bleu(reference, candidate, weights=(0.25, 0.25, 0.25, 0.25), smoothing_function=chencherry.method1)) \n",
        "\n",
        "        # return predicted \n",
        "\n",
        "    def train(self):\n",
        "        # Instantiate the model, loss function, and optimizer\n",
        "        #input_size, hidden_size, output_size, num_layers\n",
        "        # self.model = LSTMModel(n_characters, self.hidden_size, n_characters, self.num_layers).to(device)\n",
        "        optimizer = torch.optim.Adam(self.model.parameters(), lr=self.learning_rate)\n",
        "        criterion = nn.CrossEntropyLoss()\n",
        "        writer = SummaryWriter(log_dir='logs')\n",
        "\n",
        "        print(\"=> Starting training\")\n",
        "\n",
        "        # Train the model\n",
        "        for epoch in range(1,self.num_epochs+1):   #tqdm()\n",
        "            inp, target = self.get_random_batch()\n",
        "            hidden, cell = self.model.init_hidden(batch_size = self.batch_size)\n",
        "            self.model.zero_grad()\n",
        "            loss = 0\n",
        "            inp = inp.to(device)\n",
        "            target = target.to(device)\n",
        "\n",
        "            for c in range(self.chunk_len):\n",
        "                outputs, (hidden, cell) = self.model(inp[:,c], hidden, cell)\n",
        "                loss += criterion(outputs, target[:,c])\n",
        "\n",
        "            loss.backward()\n",
        "            optimizer.step()   \n",
        "            loss = loss.item() / self.chunk_len\n",
        "\n",
        "            if epoch % self.print_every == 0:\n",
        "                print(f'Epoch {epoch}, Loss: {loss:.4f}')\n",
        "                self.save_model()\n",
        "                self.save_model_state_dict()\n",
        "                self.generate()\n",
        "                \n",
        "            writer.add_scalar('Training Loss', loss, global_step = epoch)\n",
        "        \n",
        "    def save_model(self):\n",
        "        print(\"=> Saving model\")\n",
        "        with open('/content/drive/MyDrive/Data_Files/LSTMmodel.pkl', 'wb') as f:\n",
        "            pickle.dump(self.model, f)\n",
        "\n",
        "    def save_model_state_dict(self):\n",
        "        print(\"=> Saving model state dict\")\n",
        "        torch.save(self.model.state_dict(), '/content/drive/MyDrive/Data_Files/LSTMmodelSD')\n",
        "\n",
        "initial_str = 'new'\n",
        "prediction_len = 60\n",
        "gennames = Generator(initial_str, prediction_len)\n",
        "train_output = gennames.train()"
      ],
      "metadata": {
        "id": "vaFFNACVfjdi",
        "colab": {
          "base_uri": "https://localhost:8080/"
        },
        "outputId": "cc72c1b7-22f7-4b88-9c81-4baaefbb966e"
      },
      "execution_count": null,
      "outputs": [
        {
          "output_type": "stream",
          "name": "stdout",
          "text": [
            "=> Using cpu device\n",
            "=> Starting training\n",
            "Epoch 500, Loss: 2.0455\n",
            "=> generated Lyrics : new i by thing i and wrown that the gored         in that the a\n",
            "Cumulative 1-gram: 0.909091\n",
            "Cumulative 2-gram: 0.624188\n",
            "Cumulative 3-gram: 0.492445\n",
            "Cumulative 4-gram: 0.418786\n",
            "Epoch 1000, Loss: 1.8890\n",
            "=> generated Lyrics : new i ve s be the hack you bay                                 \n",
            "Cumulative 1-gram: 0.761905\n",
            "Cumulative 2-gram: 0.681598\n",
            "Cumulative 3-gram: 0.646873\n",
            "Cumulative 4-gram: 0.623047\n",
            "Epoch 1500, Loss: 1.3692\n",
            "=> generated Lyrics : new the re to plate you sto arte befand the stand the under we \n",
            "Cumulative 1-gram: 0.733333\n",
            "Cumulative 2-gram: 0.072375\n",
            "Cumulative 3-gram: 0.035459\n",
            "Cumulative 4-gram: 0.024072\n",
            "Epoch 2000, Loss: 1.5320\n",
            "=> generated Lyrics : new the will  i know the work                      cause to tur\n",
            "Cumulative 1-gram: 0.968750\n",
            "Cumulative 2-gram: 0.866025\n",
            "Cumulative 3-gram: 0.782184\n",
            "Cumulative 4-gram: 0.736872\n",
            "Epoch 2500, Loss: 1.3950\n",
            "=> generated Lyrics : newr whelle end you when     299furn  way                      \n",
            "Cumulative 1-gram: 0.852941\n",
            "Cumulative 2-gram: 0.819765\n",
            "Cumulative 3-gram: 0.775059\n",
            "Cumulative 4-gram: 0.738890\n",
            "Epoch 3000, Loss: 1.5128\n",
            "=> generated Lyrics : news to down and of the come to be you feel i know to break dam\n",
            "Cumulative 1-gram: 0.937500\n",
            "Cumulative 2-gram: 0.661438\n",
            "Cumulative 3-gram: 0.318640\n",
            "Cumulative 4-gram: 0.124516\n",
            "Epoch 3500, Loss: 1.0858\n",
            "=> generated Lyrics : new  i conging and breath a life me in where i ve alone cause  \n",
            "Cumulative 1-gram: 0.941176\n",
            "Cumulative 2-gram: 0.542326\n",
            "Cumulative 3-gram: 0.127791\n",
            "Cumulative 4-gram: 0.061175\n",
            "Epoch 4000, Loss: 1.4644\n",
            "=> generated Lyrics : new i re strond my esside to stand my                          \n",
            "Cumulative 1-gram: 0.914286\n",
            "Cumulative 2-gram: 0.819920\n",
            "Cumulative 3-gram: 0.778663\n",
            "Cumulative 4-gram: 0.753368\n",
            "Epoch 4500, Loss: 1.5505\n",
            "=> generated Lyrics : new  my you hear i middle we re coming one when you re company \n",
            "Cumulative 1-gram: 0.937500\n",
            "Cumulative 2-gram: 0.353553\n",
            "Cumulative 3-gram: 0.098573\n",
            "Cumulative 4-gram: 0.051193\n",
            "Epoch 5000, Loss: 1.3032\n",
            "=> generated Lyrics : new in s in the end i m a haus it a fad it s change the at at l\n",
            "Cumulative 1-gram: 0.850000\n",
            "Cumulative 2-gram: 0.366348\n",
            "Cumulative 3-gram: 0.198577\n",
            "Cumulative 4-gram: 0.081380\n",
            "Epoch 5500, Loss: 1.1489\n",
            "=> generated Lyrics : new i came from the light  i num                               \n",
            "Cumulative 1-gram: 0.800000\n",
            "Cumulative 2-gram: 0.771279\n",
            "Cumulative 3-gram: 0.723937\n",
            "Cumulative 4-gram: 0.687493\n",
            "Epoch 6000, Loss: 1.3111\n",
            "=> generated Lyrics : new it s be the light on the star only   good me her up wake th\n",
            "Cumulative 1-gram: 0.944444\n",
            "Cumulative 2-gram: 0.577350\n",
            "Cumulative 3-gram: 0.278734\n",
            "Cumulative 4-gram: 0.108559\n",
            "Epoch 6500, Loss: 1.1451\n",
            "=> generated Lyrics : new your breather when you re gone  with me up hearts don t ce \n",
            "Cumulative 1-gram: 0.875000\n",
            "Cumulative 2-gram: 0.418330\n",
            "Cumulative 3-gram: 0.110149\n",
            "Cumulative 4-gram: 0.055685\n",
            "Epoch 7000, Loss: 0.9738\n",
            "=> generated Lyrics : new                                                            \n",
            "Cumulative 1-gram: 0.426230\n",
            "Cumulative 2-gram: 0.412907\n",
            "Cumulative 3-gram: 0.408744\n",
            "Cumulative 4-gram: 0.398468\n",
            "Epoch 7500, Loss: 1.2964\n",
            "=> generated Lyrics : new   so all of me                           jody we surrender \n",
            "Cumulative 1-gram: 0.864865\n",
            "Cumulative 2-gram: 0.820166\n",
            "Cumulative 3-gram: 0.763841\n",
            "Cumulative 4-gram: 0.731311\n",
            "Epoch 8000, Loss: 1.0502\n",
            "=> generated Lyrics : new  better seets so sure to me                                \n",
            "Cumulative 1-gram: 0.775000\n",
            "Cumulative 2-gram: 0.704837\n",
            "Cumulative 3-gram: 0.672636\n",
            "Cumulative 4-gram: 0.650258\n",
            "Epoch 8500, Loss: 1.3240\n",
            "=> generated Lyrics : new i m motter but don t can you for about it the strength i m \n",
            "Cumulative 1-gram: 0.882353\n",
            "Cumulative 2-gram: 0.469668\n",
            "Cumulative 3-gram: 0.116218\n",
            "Cumulative 4-gram: 0.056930\n",
            "Epoch 9000, Loss: 0.5903\n",
            "=> generated Lyrics : new in my start and make it hold in my place with me put you re\n",
            "Cumulative 1-gram: 1.000000\n",
            "Cumulative 2-gram: 0.683130\n",
            "Cumulative 3-gram: 0.325499\n",
            "Cumulative 4-gram: 0.126542\n",
            "Epoch 9500, Loss: 1.3546\n",
            "=> generated Lyrics : new me now now now now now now now now now now now now now now \n",
            "Cumulative 1-gram: 0.470588\n",
            "Cumulative 2-gram: 0.383482\n",
            "Cumulative 3-gram: 0.312329\n",
            "Cumulative 4-gram: 0.254598\n",
            "Epoch 10000, Loss: 0.7766\n",
            "=> generated Lyrics : new the meder we come alive  there s still see your heart bejen\n",
            "Cumulative 1-gram: 0.857143\n",
            "Cumulative 2-gram: 0.574169\n",
            "Cumulative 3-gram: 0.305377\n",
            "Cumulative 4-gram: 0.125712\n"
          ]
        }
      ]
    },
    {
      "cell_type": "code",
      "source": [
        "# tensorboard --logdir logs"
      ],
      "metadata": {
        "id": "eAvlpWV1ssCX"
      },
      "execution_count": null,
      "outputs": []
    },
    {
      "cell_type": "markdown",
      "source": [
        "# Lyrics generation by Logistic Regression"
      ],
      "metadata": {
        "id": "38BDAQm_wRb-"
      }
    },
    {
      "cell_type": "code",
      "source": [
        "import pandas as pd\n",
        "import numpy as np"
      ],
      "metadata": {
        "id": "-6fR7fWZwVqi"
      },
      "execution_count": null,
      "outputs": []
    },
    {
      "cell_type": "code",
      "source": [
        "#importing the data sets\n",
        "from google.colab import drive\n",
        "drive.mount('/content/drive')\n",
        "\n",
        "#Colab Env\n",
        "lyrics_file = pd.read_csv(\"/content/drive/MyDrive/Data_Files/taylor_swift_lyrics_new.csv\")\n",
        "#Juypter Env\n",
        "# lyrics_file =  pd.read_csv(\"taylor_swift_lyrics_new.csv\")\n",
        "lyrics_file.head(2)"
      ],
      "metadata": {
        "id": "CWf9-3mdwehs",
        "colab": {
          "base_uri": "https://localhost:8080/",
          "height": 129
        },
        "outputId": "25cbd212-e074-41de-82b6-8488b4caa54c"
      },
      "execution_count": null,
      "outputs": [
        {
          "output_type": "stream",
          "name": "stdout",
          "text": [
            "Mounted at /content/drive\n"
          ]
        },
        {
          "output_type": "execute_result",
          "data": {
            "text/plain": [
              "         artist         album track_title  track_n  \\\n",
              "0  Taylor Swift  Taylor Swift  Tim McGraw        1   \n",
              "1  Taylor Swift  Taylor Swift  Tim McGraw        1   \n",
              "\n",
              "                                         lyric  line  year  \n",
              "0          He said the way my blue eyes shined     1  2006  \n",
              "1  Put those Georgia stars to shame that night     2  2006  "
            ],
            "text/html": [
              "\n",
              "  <div id=\"df-b60d9733-e92b-49f8-b0fc-18ee931d4302\">\n",
              "    <div class=\"colab-df-container\">\n",
              "      <div>\n",
              "<style scoped>\n",
              "    .dataframe tbody tr th:only-of-type {\n",
              "        vertical-align: middle;\n",
              "    }\n",
              "\n",
              "    .dataframe tbody tr th {\n",
              "        vertical-align: top;\n",
              "    }\n",
              "\n",
              "    .dataframe thead th {\n",
              "        text-align: right;\n",
              "    }\n",
              "</style>\n",
              "<table border=\"1\" class=\"dataframe\">\n",
              "  <thead>\n",
              "    <tr style=\"text-align: right;\">\n",
              "      <th></th>\n",
              "      <th>artist</th>\n",
              "      <th>album</th>\n",
              "      <th>track_title</th>\n",
              "      <th>track_n</th>\n",
              "      <th>lyric</th>\n",
              "      <th>line</th>\n",
              "      <th>year</th>\n",
              "    </tr>\n",
              "  </thead>\n",
              "  <tbody>\n",
              "    <tr>\n",
              "      <th>0</th>\n",
              "      <td>Taylor Swift</td>\n",
              "      <td>Taylor Swift</td>\n",
              "      <td>Tim McGraw</td>\n",
              "      <td>1</td>\n",
              "      <td>He said the way my blue eyes shined</td>\n",
              "      <td>1</td>\n",
              "      <td>2006</td>\n",
              "    </tr>\n",
              "    <tr>\n",
              "      <th>1</th>\n",
              "      <td>Taylor Swift</td>\n",
              "      <td>Taylor Swift</td>\n",
              "      <td>Tim McGraw</td>\n",
              "      <td>1</td>\n",
              "      <td>Put those Georgia stars to shame that night</td>\n",
              "      <td>2</td>\n",
              "      <td>2006</td>\n",
              "    </tr>\n",
              "  </tbody>\n",
              "</table>\n",
              "</div>\n",
              "      <button class=\"colab-df-convert\" onclick=\"convertToInteractive('df-b60d9733-e92b-49f8-b0fc-18ee931d4302')\"\n",
              "              title=\"Convert this dataframe to an interactive table.\"\n",
              "              style=\"display:none;\">\n",
              "        \n",
              "  <svg xmlns=\"http://www.w3.org/2000/svg\" height=\"24px\"viewBox=\"0 0 24 24\"\n",
              "       width=\"24px\">\n",
              "    <path d=\"M0 0h24v24H0V0z\" fill=\"none\"/>\n",
              "    <path d=\"M18.56 5.44l.94 2.06.94-2.06 2.06-.94-2.06-.94-.94-2.06-.94 2.06-2.06.94zm-11 1L8.5 8.5l.94-2.06 2.06-.94-2.06-.94L8.5 2.5l-.94 2.06-2.06.94zm10 10l.94 2.06.94-2.06 2.06-.94-2.06-.94-.94-2.06-.94 2.06-2.06.94z\"/><path d=\"M17.41 7.96l-1.37-1.37c-.4-.4-.92-.59-1.43-.59-.52 0-1.04.2-1.43.59L10.3 9.45l-7.72 7.72c-.78.78-.78 2.05 0 2.83L4 21.41c.39.39.9.59 1.41.59.51 0 1.02-.2 1.41-.59l7.78-7.78 2.81-2.81c.8-.78.8-2.07 0-2.86zM5.41 20L4 18.59l7.72-7.72 1.47 1.35L5.41 20z\"/>\n",
              "  </svg>\n",
              "      </button>\n",
              "      \n",
              "  <style>\n",
              "    .colab-df-container {\n",
              "      display:flex;\n",
              "      flex-wrap:wrap;\n",
              "      gap: 12px;\n",
              "    }\n",
              "\n",
              "    .colab-df-convert {\n",
              "      background-color: #E8F0FE;\n",
              "      border: none;\n",
              "      border-radius: 50%;\n",
              "      cursor: pointer;\n",
              "      display: none;\n",
              "      fill: #1967D2;\n",
              "      height: 32px;\n",
              "      padding: 0 0 0 0;\n",
              "      width: 32px;\n",
              "    }\n",
              "\n",
              "    .colab-df-convert:hover {\n",
              "      background-color: #E2EBFA;\n",
              "      box-shadow: 0px 1px 2px rgba(60, 64, 67, 0.3), 0px 1px 3px 1px rgba(60, 64, 67, 0.15);\n",
              "      fill: #174EA6;\n",
              "    }\n",
              "\n",
              "    [theme=dark] .colab-df-convert {\n",
              "      background-color: #3B4455;\n",
              "      fill: #D2E3FC;\n",
              "    }\n",
              "\n",
              "    [theme=dark] .colab-df-convert:hover {\n",
              "      background-color: #434B5C;\n",
              "      box-shadow: 0px 1px 3px 1px rgba(0, 0, 0, 0.15);\n",
              "      filter: drop-shadow(0px 1px 2px rgba(0, 0, 0, 0.3));\n",
              "      fill: #FFFFFF;\n",
              "    }\n",
              "  </style>\n",
              "\n",
              "      <script>\n",
              "        const buttonEl =\n",
              "          document.querySelector('#df-b60d9733-e92b-49f8-b0fc-18ee931d4302 button.colab-df-convert');\n",
              "        buttonEl.style.display =\n",
              "          google.colab.kernel.accessAllowed ? 'block' : 'none';\n",
              "\n",
              "        async function convertToInteractive(key) {\n",
              "          const element = document.querySelector('#df-b60d9733-e92b-49f8-b0fc-18ee931d4302');\n",
              "          const dataTable =\n",
              "            await google.colab.kernel.invokeFunction('convertToInteractive',\n",
              "                                                     [key], {});\n",
              "          if (!dataTable) return;\n",
              "\n",
              "          const docLinkHtml = 'Like what you see? Visit the ' +\n",
              "            '<a target=\"_blank\" href=https://colab.research.google.com/notebooks/data_table.ipynb>data table notebook</a>'\n",
              "            + ' to learn more about interactive tables.';\n",
              "          element.innerHTML = '';\n",
              "          dataTable['output_type'] = 'display_data';\n",
              "          await google.colab.output.renderOutput(dataTable, element);\n",
              "          const docLink = document.createElement('div');\n",
              "          docLink.innerHTML = docLinkHtml;\n",
              "          element.appendChild(docLink);\n",
              "        }\n",
              "      </script>\n",
              "    </div>\n",
              "  </div>\n",
              "  "
            ]
          },
          "metadata": {},
          "execution_count": 2
        }
      ]
    },
    {
      "cell_type": "code",
      "source": [
        "data = lyrics_file[50:150].lyric"
      ],
      "metadata": {
        "id": "n3oJ9ltJwgqf"
      },
      "execution_count": null,
      "outputs": []
    },
    {
      "cell_type": "code",
      "source": [
        "X_train = [(x) for x in data]  "
      ],
      "metadata": {
        "id": "cPQPhRflwiOy"
      },
      "execution_count": null,
      "outputs": []
    },
    {
      "cell_type": "code",
      "source": [
        "import tensorflow  as tf\n",
        "from tensorflow import keras\n",
        "# from tensorflow.keras import layers\n",
        "tf.keras.preprocessing.text.Tokenizer\n",
        "lang_tokenizer = tf.keras.preprocessing.text.Tokenizer(filters='!\"#$%&()*+,-./:;<=>?@[\\\\]^_`{|}~\\t\\n', oov_token='<OOV>', lower=True)\n",
        "lang_tokenizer.fit_on_texts(X_train)"
      ],
      "metadata": {
        "id": "ahkrYAvVwjQM"
      },
      "execution_count": null,
      "outputs": []
    },
    {
      "cell_type": "code",
      "source": [
        "# create input sequences using list of tokens\n",
        "input_sequences = []\n",
        "for line in X_train:\n",
        "    token_list = lang_tokenizer.texts_to_sequences([line])[0]\n",
        "#     print(token_list)\n",
        "    for i in range(1, len(token_list)):\n",
        "        n_gram_sequence = token_list[:i+1]\n",
        "#         print(\"ngs\", n_gram_sequence)\n",
        "        input_sequences.append(n_gram_sequence)"
      ],
      "metadata": {
        "id": "L0PbBuXMwkXj"
      },
      "execution_count": null,
      "outputs": []
    },
    {
      "cell_type": "code",
      "source": [
        "# pad sequences\n",
        "max_sequence_len = max([len(x) for x in input_sequences])\n",
        "input_sequences = np.array(tf.keras.utils.pad_sequences(input_sequences, maxlen = max_sequence_len, padding='pre'))"
      ],
      "metadata": {
        "id": "1NzdC2pAwlly"
      },
      "execution_count": null,
      "outputs": []
    },
    {
      "cell_type": "code",
      "source": [
        "from scipy import sparse as sp_sparse"
      ],
      "metadata": {
        "id": "SFB1HatXwo22"
      },
      "execution_count": null,
      "outputs": []
    },
    {
      "cell_type": "code",
      "source": [
        "predictors, label = input_sequences[:,:-1],input_sequences[:,-1]\n",
        "X_train_sparse = sp_sparse.vstack([sp_sparse.csr_matrix(predictors)])\n",
        "label_df = pd.DataFrame({'name':label})\n",
        "y_train = label_df.values"
      ],
      "metadata": {
        "id": "-nImGEruwp8v"
      },
      "execution_count": null,
      "outputs": []
    },
    {
      "cell_type": "code",
      "source": [
        "X_train_sparse"
      ],
      "metadata": {
        "id": "e0PMOMsmwrNQ",
        "colab": {
          "base_uri": "https://localhost:8080/"
        },
        "outputId": "5515ff53-9342-4837-af02-f60865ef0529"
      },
      "execution_count": null,
      "outputs": [
        {
          "output_type": "execute_result",
          "data": {
            "text/plain": [
              "<588x12 sparse matrix of type '<class 'numpy.int32'>'\n",
              "\twith 2327 stored elements in Compressed Sparse Row format>"
            ]
          },
          "metadata": {},
          "execution_count": 10
        }
      ]
    },
    {
      "cell_type": "code",
      "source": [
        "tags_count = {}\n",
        "\n",
        "for tags in y_train:\n",
        "  for tag in tags:\n",
        "    if tag in tags_count:\n",
        "        tags_count[tag] += 1\n",
        "    else:\n",
        "        tags_count[tag] = 1\n",
        "        \n",
        "tags_counts = {i:tags_count[i] for i in tags_count if i!=0}"
      ],
      "metadata": {
        "id": "ql3YbPmGwsf3"
      },
      "execution_count": null,
      "outputs": []
    },
    {
      "cell_type": "code",
      "source": [
        "from sklearn.multiclass import OneVsRestClassifier\n",
        "from sklearn.linear_model import LogisticRegression, RidgeClassifier"
      ],
      "metadata": {
        "id": "vAKt_Zk6wtjB"
      },
      "execution_count": null,
      "outputs": []
    },
    {
      "cell_type": "code",
      "source": [
        "def train_classifier(X_train, y_train, C=1.0):\n",
        "    # Create and fit LogisticRegression wraped into OneVsRestClassifier.\n",
        "    model = LogisticRegression(C=C,max_iter=400000)\n",
        "    model = OneVsRestClassifier(model)\n",
        "    model.fit(X_train, y_train)    \n",
        "    return model "
      ],
      "metadata": {
        "id": "Zffdbqkkwu4y"
      },
      "execution_count": null,
      "outputs": []
    },
    {
      "cell_type": "code",
      "source": [
        "classifier_lb = train_classifier(X_train_sparse, y_train, C=1.0)"
      ],
      "metadata": {
        "id": "4LTFN9g0wv9i"
      },
      "execution_count": null,
      "outputs": []
    },
    {
      "cell_type": "code",
      "source": [
        "def make_lyrics2(seed_text, next_words):\n",
        "    for _ in range(next_words):\n",
        "        token_list = lang_tokenizer.texts_to_sequences([seed_text])[0]\n",
        "        token_list = tf.keras.utils.pad_sequences([token_list],\n",
        "                     maxlen=max_sequence_len-1,padding='pre')\n",
        "        #print(token_list)\n",
        "        predicted_array = classifier_lb.predict( token_list)\n",
        "        #print(\"array\", predicted_array)\n",
        "        \n",
        "        output_word = \"\"\n",
        "        for word, index in lang_tokenizer.word_index.items():\n",
        "            if index == predicted_array[0]:\n",
        "                output_word = word\n",
        "                break\n",
        "        seed_text += \" \" + output_word\n",
        "    return seed_text"
      ],
      "metadata": {
        "id": "7R44PMqjww9t"
      },
      "execution_count": null,
      "outputs": []
    },
    {
      "cell_type": "code",
      "source": [
        "output = make_lyrics2(\"its there summer\",20)"
      ],
      "metadata": {
        "id": "1lRsykLqwyek"
      },
      "execution_count": null,
      "outputs": []
    },
    {
      "cell_type": "code",
      "source": [
        "output #Logistic Regression"
      ],
      "metadata": {
        "id": "dRmeRxIDwzll",
        "colab": {
          "base_uri": "https://localhost:8080/",
          "height": 53
        },
        "outputId": "0e6fa1df-d414-4a19-dbc6-cd9a1db24d39"
      },
      "execution_count": null,
      "outputs": [
        {
          "output_type": "execute_result",
          "data": {
            "text/plain": [
              "\"its there summer obvious should don't but a night guitar goes me star in in crazy in crazy in this in this world\""
            ],
            "application/vnd.google.colaboratory.intrinsic+json": {
              "type": "string"
            }
          },
          "metadata": {},
          "execution_count": 17
        }
      ]
    }
  ]
}