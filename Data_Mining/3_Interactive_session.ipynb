{
 "cells": [
  {
   "cell_type": "markdown",
   "metadata": {},
   "source": [
    "### Backend (Load stuff)"
   ]
  },
  {
   "cell_type": "code",
   "execution_count": 1,
   "metadata": {},
   "outputs": [],
   "source": [
    "import pandas as pd\n",
    "import seaborn as sns\n",
    "import matplotlib.pyplot as plt\n",
    "import numpy as np\n",
    "import pickle\n",
    "from sklearn.feature_extraction.text import TfidfVectorizer\n",
    "from sklearn.metrics.pairwise import cosine_similarity\n",
    "import re\n",
    "from surprise import dump\n",
    "from surprise import Dataset, Reader, SVD, KNNBasic\n",
    "from surprise.model_selection import cross_validate\n",
    "from sklearn.model_selection import train_test_split\n",
    "from IPython.display import display\n",
    "import ipywidgets as widgets\n",
    "from surprise.model_selection import GridSearchCV\n",
    "import tqdm\n",
    "\n",
    "from proj_util import *\n",
    "\n",
    "with open('./Model/search_TfidfVectorizer.pkl', 'rb') as f:\n",
    "    vectorizer = pickle.load(f)\n",
    "    assert(isinstance(vectorizer, TfidfVectorizer))\n",
    "with open('./Model/search_TfidfVectorizer_en.pkl', 'rb') as f:\n",
    "    vectorizer_en = pickle.load(f)\n",
    "    assert(isinstance(vectorizer_en, TfidfVectorizer))\n",
    "\n",
    "with open('./Data/search_tfidf.pkl', 'rb') as f:\n",
    "    tfidf = pickle.load(f)\n",
    "with open('./Data/search_tfidf_en.pkl', 'rb') as f:\n",
    "    tfidf_en = pickle.load(f)\n",
    "\n",
    "anime_with_synopsis = pd.read_feather('./Data/anime_with_synopsis.feather')\n",
    "anime = pd.read_feather('./Data/anime.feather')\n",
    "anime_for_search = pd.read_feather('./Data/anime_for_search.feather')\n",
    "\n",
    "svd_big = dump.load('./Model/svd.pkl')[0]\n",
    "\n",
    "focus_rating_2 = pd.read_feather('./Data/For_SVD/focus_rating_2.feather')\n",
    "user_ids = focus_rating_2['user_id'].unique()\n",
    "\n",
    "def search(keyword: str):\n",
    "    return search_util(keyword, vectorizer, vectorizer_en, tfidf, tfidf_en, anime_for_search)\n",
    "\n",
    "svd_big = dump.load('./Model/svd_big.pkl')[0]"
   ]
  },
  {
   "cell_type": "code",
   "execution_count": 2,
   "metadata": {},
   "outputs": [],
   "source": [
    "anime_ids = pd.Series(anime_for_search['MAL_ID'].unique())\n",
    "anime_ids.index = anime_ids.values"
   ]
  },
  {
   "cell_type": "markdown",
   "metadata": {},
   "source": [
    "Since SVD algorithm does not support \"new\" user per-se. We well calcualte the similarity from existing users"
   ]
  },
  {
   "cell_type": "markdown",
   "metadata": {},
   "source": [
    "### Search "
   ]
  },
  {
   "cell_type": "code",
   "execution_count": 3,
   "metadata": {},
   "outputs": [
    {
     "data": {
      "application/vnd.jupyter.widget-view+json": {
       "model_id": "cc7f7989fbaa48769383dfd3697da31d",
       "version_major": 2,
       "version_minor": 0
      },
      "text/plain": [
       "VBox(children=(HBox(children=(Text(value='', description='Title'), Button(button_style='info', description='Se…"
      ]
     },
     "metadata": {},
     "output_type": "display_data"
    }
   ],
   "source": [
    "search_widget = widgets.Text(\n",
    "    value = '', description = 'Title'\n",
    ")\n",
    "\n",
    "search_btn = widgets.Button(\n",
    "    description='Search',\n",
    "    disabled=False,\n",
    "    button_style='info',\n",
    "    tooltip='Search',\n",
    "    icon='search' \n",
    ")\n",
    "\n",
    "search_output = widgets.Output()\n",
    "\n",
    "def search_event(sender):\n",
    "    search_output.clear_output()\n",
    "    x = search_widget.value\n",
    "    if len(x) < 3:\n",
    "            return\n",
    "    with search_output:\n",
    "        display(search(x))\n",
    "\n",
    "search_btn.on_click(search_event)\n",
    "\n",
    "display(widgets.VBox([widgets.HBox([search_widget, search_btn]), search_output]))"
   ]
  },
  {
   "cell_type": "code",
   "execution_count": 31,
   "metadata": {},
   "outputs": [
    {
     "data": {
      "application/vnd.jupyter.widget-view+json": {
       "model_id": "88d8fd0fef1e45abbcc8ce6040774b36",
       "version_major": 2,
       "version_minor": 0
      },
      "text/plain": [
       "VBox(children=(HBox(children=(BoundedIntText(value=0, max=62011), Button(button_style='info', description='Rec…"
      ]
     },
     "metadata": {},
     "output_type": "display_data"
    }
   ],
   "source": [
    "recommend_widget = widgets.BoundedIntText(value = None, min = 0, max = len(user_ids), description = '')\n",
    "\n",
    "recoomend_btn = widgets.Button(\n",
    "    description='Recommend',\n",
    "    disabled=False,\n",
    "    button_style='info',\n",
    "    tooltip='Search',\n",
    "    icon='search'  \n",
    ")\n",
    "\n",
    "current_ratings = widgets.Output()\n",
    "\n",
    "recommend_output = widgets.Output()\n",
    "\n",
    "def recommend_titles(_):\n",
    "    q = recommend_widget.value\n",
    "    if q in user_ids:\n",
    "        u_id = q\n",
    "    else:\n",
    "        u_id = user_ids[recommend_widget.value]\n",
    "    u_titles = focus_rating_2[focus_rating_2['user_id'] == u_id]\n",
    "    current = u_titles \\\n",
    "        .join(anime_for_search.set_index('MAL_ID'), on='anime_id')\\\n",
    "        .sort_values(by=['rating', 'Avg. Score'], ascending=False)\n",
    "    current = current.head(10).iloc[:, 3:]\n",
    "    current.index = current['anime_id']\n",
    "    current = current[['rating', 'Name', 'English name', 'Genres']]\n",
    "\n",
    "    # recommend\n",
    "    remaining_anime = anime_ids[~anime_ids.isin(focus_rating_2[focus_rating_2['user_id'] == u_id]['anime_id'])]\n",
    "    predicted_anime = pd.DataFrame(remaining_anime.apply(lambda x: svd_big.predict(u_id, x)[3]).sort_values(ascending=False).head(100),\n",
    "                                   columns=['Pred. rating']).join(anime_for_search.set_index('MAL_ID'))\\\n",
    "                        .sort_values(by=['Pred. rating', 'Avg. Score'], ascending=False)\\\n",
    "                        .head(10)\n",
    "    \n",
    "    predicted_anime.index.name = 'anime_id'\n",
    "\n",
    "    current_ratings.clear_output()\n",
    "    recommend_output.clear_output()\n",
    "\n",
    "    with current_ratings:\n",
    "        display(current)\n",
    "\n",
    "    with recommend_output:\n",
    "        display(predicted_anime[['Pred. rating', 'Name', 'English name', 'Genres']])\n",
    "\n",
    "recoomend_btn.on_click(recommend_titles)\n",
    "\n",
    "display(widgets.VBox([widgets.HBox([recommend_widget, recoomend_btn]), \n",
    "                      widgets.Label('History'), \n",
    "                      current_ratings,\n",
    "                      widgets.Label('Recommend Output'),\n",
    "                      recommend_output]))"
   ]
  },
  {
   "cell_type": "code",
   "execution_count": 28,
   "metadata": {},
   "outputs": [
    {
     "data": {
      "text/plain": [
       "user_id\n",
       "182798    1\n",
       "281106    1\n",
       "99580     1\n",
       "343060    1\n",
       "281251    1\n",
       "         ..\n",
       "67407     1\n",
       "215586    1\n",
       "13058     1\n",
       "111833    1\n",
       "126783    1\n",
       "Name: rating, Length: 1161, dtype: int64"
      ]
     },
     "execution_count": 28,
     "metadata": {},
     "output_type": "execute_result"
    }
   ],
   "source": [
    "x = focus_rating_2.groupby('user_id').count()['rating'].sort_values()\n",
    "x[x == 1]"
   ]
  },
  {
   "cell_type": "code",
   "execution_count": 29,
   "metadata": {},
   "outputs": [
    {
     "data": {
      "text/plain": [
       "(array([2340]),)"
      ]
     },
     "execution_count": 29,
     "metadata": {},
     "output_type": "execute_result"
    }
   ],
   "source": [
    "np.where(user_ids == 13058)"
   ]
  },
  {
   "cell_type": "code",
   "execution_count": 8,
   "metadata": {},
   "outputs": [],
   "source": [
    "def plot_this(df: pd.DataFrame):\n",
    "    plt.figure(figsize=(20, 10))\n",
    "    # Use the barplot function from Seaborn\n",
    "    ax = sns.barplot(x='Name', y='Pred. rating', data=df, errorbar=None, width=0.5,\n",
    "                    palette=\"crest\")\n",
    "    # Annotate each bar with the genre name\n",
    "    for i, p in enumerate(ax.patches):\n",
    "        ax.annotate(f'{p.get_height():.2f}', (p.get_x() + p.get_width() / 2., p.get_height()),\n",
    "                    ha='center', va='center', xytext=(0, 10), textcoords='offset points', fontsize=8, color='black')\n",
    "        # Adding genre names inside the bars\n",
    "        ax.text(p.get_x() + p.get_width() / 2., p.get_height() / 2., df['Pred. rating'].iloc[i],\n",
    "                ha='center', va='center',rotation=90, fontsize=12, color='white', weight='bold')\n",
    "    # Customize the plot\n",
    "    plt.title('Top recommendation', fontsize=20)\n",
    "    plt.xlabel('Genre', fontsize=18)\n",
    "    plt.ylabel('Average User Rating', fontsize=18)\n",
    "    ax.set_xticks([])\n",
    "    ax.margins(x=0.1)\n",
    "\n",
    "    return ax"
   ]
  },
  {
   "cell_type": "code",
   "execution_count": null,
   "metadata": {},
   "outputs": [],
   "source": []
  }
 ],
 "metadata": {
  "kernelspec": {
   "display_name": "si671",
   "language": "python",
   "name": "python3"
  },
  "language_info": {
   "codemirror_mode": {
    "name": "ipython",
    "version": 3
   },
   "file_extension": ".py",
   "mimetype": "text/x-python",
   "name": "python",
   "nbconvert_exporter": "python",
   "pygments_lexer": "ipython3",
   "version": "3.8.18"
  }
 },
 "nbformat": 4,
 "nbformat_minor": 2
}
